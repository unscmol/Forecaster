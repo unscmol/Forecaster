{
 "cells": [
  {
   "cell_type": "code",
   "execution_count": 1,
   "id": "initial_id",
   "metadata": {
    "collapsed": true,
    "ExecuteTime": {
     "end_time": "2025-04-24T14:20:26.223167Z",
     "start_time": "2025-04-24T14:20:25.562134Z"
    }
   },
   "outputs": [],
   "source": [
    "import os\n",
    "import sys\n",
    "import json\n",
    "import numpy as np\n",
    "import pandas as pd\n",
    "import pickle\n",
    "import matplotlib.pyplot as plt\n",
    "import joblib\n",
    "\n",
    "#引入自定义函数\n",
    "from src.untils.forecaster_fuction import check_missing_values"
   ]
  },
  {
   "cell_type": "markdown",
   "source": [
    "### 江西数据"
   ],
   "metadata": {
    "collapsed": false
   },
   "id": "5bf1ff40622d73ce"
  },
  {
   "cell_type": "code",
   "outputs": [
    {
     "name": "stdout",
     "output_type": "stream",
     "text": [
      "缺失值统计信息:\n",
      "cl: 共有 3549 行缺失值 (占总行数的 10.13%)\n",
      "  - ws_m: 2013 个缺失值\n",
      "  - power: 1 个缺失值\n",
      "  - ws_nwp: 1633 个缺失值\n",
      "  - tem_nwp: 1633 个缺失值\n",
      "js: 共有 2013 行缺失值 (占总行数的 5.74%)\n",
      "  - ws_m: 2013 个缺失值\n",
      "  - power: 1 个缺失值\n",
      "  - ws_nwp: 1 个缺失值\n",
      "  - tem_nwp: 1 个缺失值\n",
      "jz: 共有 2013 行缺失值 (占总行数的 5.74%)\n",
      "  - ws_m: 2013 个缺失值\n",
      "  - power: 1 个缺失值\n",
      "  - ws_nwp: 385 个缺失值\n",
      "  - tem_nwp: 385 个缺失值\n",
      "lym: 共有 4125 行缺失值 (占总行数的 11.77%)\n",
      "  - ws_m: 2013 个缺失值\n",
      "  - power: 1 个缺失值\n",
      "  - ws_nwp: 3841 个缺失值\n",
      "  - tem_nwp: 3841 个缺失值\n",
      "qss: 共有 3933 行缺失值 (占总行数的 11.22%)\n",
      "  - ws_m: 2013 个缺失值\n",
      "  - power: 1 个缺失值\n",
      "  - ws_nwp: 2209 个缺失值\n",
      "  - tem_nwp: 2209 个缺失值\n",
      "wtl: 共有 3454 行缺失值 (占总行数的 9.86%)\n",
      "  - ws_m: 2013 个缺失值\n",
      "  - power: 1 个缺失值\n",
      "  - ws_nwp: 2018 个缺失值\n",
      "  - tem_nwp: 2017 个缺失值\n",
      "zh: 共有 3549 行缺失值 (占总行数的 10.13%)\n",
      "  - ws_m: 2013 个缺失值\n",
      "  - power: 1 个缺失值\n",
      "  - ws_nwp: 1921 个缺失值\n",
      "  - tem_nwp: 1921 个缺失值\n",
      "\n",
      "共有 7 个键存在缺失值\n",
      "1. cl: 3549 行缺失值\n",
      "2. js: 2013 行缺失值\n",
      "3. jz: 2013 行缺失值\n",
      "4. lym: 4125 行缺失值\n",
      "5. qss: 3933 行缺失值\n",
      "6. wtl: 3454 行缺失值\n",
      "7. zh: 3549 行缺失值\n",
      "\n",
      "第一个含缺失值数据集的部分数据示例:\n",
      "                     ws_m  power  ws_nwp  tem_nwp key_name\n",
      "2019-01-01 00:00:00   NaN    NaN     NaN      NaN       cl\n",
      "2019-06-12 01:15:00   NaN  29.97    6.08     24.9       cl\n",
      "2019-06-12 01:30:00   NaN  29.73    5.99     24.9       cl\n",
      "2019-06-12 01:45:00   NaN  27.84    5.91     24.8       cl\n",
      "2019-06-12 02:00:00   NaN  24.69    5.91     24.8       cl\n",
      "场站 cl: 训练集大小 = 28032, 测试集大小 = 7008\n",
      "场站 js: 训练集大小 = 28032, 测试集大小 = 7008\n",
      "场站 jz: 训练集大小 = 28032, 测试集大小 = 7008\n",
      "场站 lym: 训练集大小 = 28032, 测试集大小 = 7008\n",
      "场站 qss: 训练集大小 = 28032, 测试集大小 = 7008\n",
      "场站 wtl: 训练集大小 = 28032, 测试集大小 = 7008\n",
      "场站 zh: 训练集大小 = 28032, 测试集大小 = 7008\n"
     ]
    }
   ],
   "source": [
    "file_path = '../../data/raw/dataset_1'\n",
    "data_name_list = os.listdir(file_path)\n",
    "data_dic = {}\n",
    "for i in range(len(data_name_list)):\n",
    "    name_id = data_name_list[i][:-4]\n",
    "    if name_id in ['cl', 'js', 'jz','lym', 'qss', 'wtl', 'zh']: # 风电场才读取数据\n",
    "        data_temp = pickle.load(open(file_path + '/' +data_name_list[i], 'rb'))\n",
    "        data_dic[name_id] = data_temp\n",
    "joblib.dump(data_dic, '../../data/processed/archive_data/dataset_1/total_data_dic.joblib')\n",
    "data_dic = joblib.load('../../data/processed/archive_data/dataset_1/total_data_dic.joblib')\n",
    "check_missing_values(data_dic)\n",
    "'''数据处理'''\n",
    "# 提取各场站训练集与测试集\n",
    "def split_train_test_data_by_time(data_dic, train_ratio=0.8):\n",
    "    \"\"\"\n",
    "    将data_dic中的每个数据框按照时间顺序划分为训练集和测试集。\n",
    "\n",
    "    参数:\n",
    "    -----------\n",
    "    data_dic : dict\n",
    "        包含各风电场数据框的字典。\n",
    "    train_ratio : float, 默认=0.8\n",
    "        用于训练的数据比例（取值0到1之间）。\n",
    "\n",
    "    返回:\n",
    "    --------\n",
    "    train_data_dic : dict\n",
    "        包含各风电场训练数据框的字典。\n",
    "    test_data_dic : dict\n",
    "        包含各风电场测试数据框的字典。\n",
    "    \"\"\"\n",
    "    train_data_dic = {}\n",
    "    test_data_dic = {}\n",
    "\n",
    "    for station_id, df in data_dic.items():\n",
    "        # 确保数据已按时间排序（如果没有，请取消下面的注释）\n",
    "        # df = df.sort_index()  # 如果索引是时间戳\n",
    "        # 或者，如果有时间列\n",
    "        # df = df.sort_values('时间列名')\n",
    "\n",
    "        # 计算训练集的边界索引\n",
    "        train_size = int(len(df) * train_ratio)\n",
    "\n",
    "        # 按照时间顺序划分数据集\n",
    "        train_df = df.iloc[:train_size].copy()\n",
    "        test_df = df.iloc[train_size:].copy()\n",
    "\n",
    "        # 存储划分结果\n",
    "        train_data_dic[station_id] = train_df\n",
    "        test_data_dic[station_id] = test_df\n",
    "\n",
    "        print(f\"场站 {station_id}: 训练集大小 = {len(train_df)}, 测试集大小 = {len(test_df)}\")\n",
    "\n",
    "    return train_data_dic, test_data_dic\n",
    "\n",
    "data_dic = joblib.load('../../data/processed/archive_data/dataset_1/total_data_dic.joblib')\n",
    "train_data_dic, test_data_dic = split_train_test_data_by_time(data_dic)\n",
    "\n"
   ],
   "metadata": {
    "collapsed": false,
    "ExecuteTime": {
     "end_time": "2025-04-24T03:59:43.437698Z",
     "start_time": "2025-04-24T03:59:43.355045Z"
    }
   },
   "id": "c2710330b6d8c51b",
   "execution_count": 5
  },
  {
   "cell_type": "code",
   "outputs": [],
   "source": [
    "\n",
    "# 保存超参数\n",
    "job_params = {\n",
    "    \"total_data_path\": '../data/processed/archive_data/dataset_1/total_data_dic.joblib',\n",
    "    \"user_id\": 'xiaowang',\n",
    "    \"task_id\": 1,\n",
    "    \"job_number\": 0 # 唯一的作业号，用于定位训练测试数据，跟踪进程\n",
    "}\n",
    "with open(\"../../config/job_config/job_params.json\", \"w\") as f:\n",
    "    json.dump(job_params, f, indent=4)\n",
    "\n"
   ],
   "metadata": {
    "collapsed": false,
    "ExecuteTime": {
     "end_time": "2025-04-24T14:52:24.987178Z",
     "start_time": "2025-04-24T14:52:24.973178Z"
    }
   },
   "id": "a05add3ab1cb7f69",
   "execution_count": 3
  },
  {
   "cell_type": "code",
   "outputs": [],
   "source": [],
   "metadata": {
    "collapsed": false
   },
   "id": "d55514add119fe49"
  }
 ],
 "metadata": {
  "kernelspec": {
   "display_name": "Python 3",
   "language": "python",
   "name": "python3"
  },
  "language_info": {
   "codemirror_mode": {
    "name": "ipython",
    "version": 2
   },
   "file_extension": ".py",
   "mimetype": "text/x-python",
   "name": "python",
   "nbconvert_exporter": "python",
   "pygments_lexer": "ipython2",
   "version": "2.7.6"
  }
 },
 "nbformat": 4,
 "nbformat_minor": 5
}
