{
 "cells": [
  {
   "cell_type": "code",
   "execution_count": 1,
   "id": "initial_id",
   "metadata": {
    "collapsed": true,
    "ExecuteTime": {
     "end_time": "2025-05-05T09:35:03.759965Z",
     "start_time": "2025-05-05T09:35:02.877839Z"
    }
   },
   "outputs": [],
   "source": [
    "import os\n",
    "import sys\n",
    "import json\n",
    "import numpy as np\n",
    "import pandas as pd\n",
    "import pickle\n",
    "import matplotlib.pyplot as plt\n",
    "import joblib"
   ]
  },
  {
   "cell_type": "code",
   "outputs": [],
   "source": [
    "\n",
    "# 保存超参数\n",
    "job_params = {\n",
    "    \"total_data_path\": '../data/processed/archive_data/dataset_1/total_data_dic.joblib',\n",
    "    \"user_id\": 'xiaowang',\n",
    "    \"task_id\": 1,\n",
    "    \"job_number\": 0, # 唯一的作业号，用于定位训练测试数据，跟踪进程\n",
    "    \"inp_len\": 16,\n",
    "    \"out_len\": 16,\n",
    "    \"step_len\": 1,\n",
    "    \"Custom_evaluation\": 0, # 是否启用自定义评估模式\n",
    "    \"model_hyperparams\": {'batch_size': 1, 'hidden_size': 128}\n",
    "    }\n",
    "with open(\"../config/job_config/job_params.json\", \"w\") as f:\n",
    "    json.dump(job_params, f, indent=4)"
   ],
   "metadata": {
    "collapsed": false,
    "ExecuteTime": {
     "end_time": "2025-04-28T12:46:12.052038Z",
     "start_time": "2025-04-28T12:46:12.023040Z"
    }
   },
   "id": "cdc5585d47cde464",
   "execution_count": 5
  },
  {
   "cell_type": "code",
   "outputs": [
    {
     "data": {
      "text/plain": "array([0.15352, 0.1748 , 0.20398, 0.16274, 0.18306, 0.17156, 0.17002])"
     },
     "execution_count": 4,
     "metadata": {},
     "output_type": "execute_result"
    }
   ],
   "source": [],
   "metadata": {
    "collapsed": false,
    "ExecuteTime": {
     "end_time": "2025-05-05T09:38:43.746026Z",
     "start_time": "2025-05-05T09:38:43.725025Z"
    }
   },
   "id": "54c03b6a1fa5cdb",
   "execution_count": 4
  },
  {
   "cell_type": "code",
   "outputs": [],
   "source": [],
   "metadata": {
    "collapsed": false
   },
   "id": "f978227ca40df2ce"
  }
 ],
 "metadata": {
  "kernelspec": {
   "display_name": "Python 3",
   "language": "python",
   "name": "python3"
  },
  "language_info": {
   "codemirror_mode": {
    "name": "ipython",
    "version": 2
   },
   "file_extension": ".py",
   "mimetype": "text/x-python",
   "name": "python",
   "nbconvert_exporter": "python",
   "pygments_lexer": "ipython2",
   "version": "2.7.6"
  }
 },
 "nbformat": 4,
 "nbformat_minor": 5
}
