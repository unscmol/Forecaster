{
 "cells": [
  {
   "cell_type": "code",
   "execution_count": 7,
   "id": "initial_id",
   "metadata": {
    "collapsed": true,
    "ExecuteTime": {
     "end_time": "2025-05-11T14:23:51.704993Z",
     "start_time": "2025-05-11T14:23:51.679994Z"
    }
   },
   "outputs": [],
   "source": [
    "import os\n",
    "import sys\n",
    "import json\n",
    "import numpy as np\n",
    "import pandas as pd\n",
    "import pickle\n",
    "import matplotlib.pyplot as plt\n",
    "import joblib"
   ]
  },
  {
   "cell_type": "code",
   "outputs": [],
   "source": [
    "\n",
    "# 保存超参数\n",
    "job_params = {\n",
    "            \"total_data_path\": \"../data/processed/archive_data/dataset_1/total_data_dic.joblib\",\n",
    "            \"user_id\": \"xiaowang\",\n",
    "            \"task_id\": 1,  # 任务类型1\n",
    "            \"job_number\": 0,  # 使用数据库自动生成的 job_id\n",
    "            \"inp_len\": 16,\n",
    "            \"out_len\": 16,\n",
    "            \"step_len\": 1,\n",
    "            \"Custom_evaluation\": 0\n",
    "        }\n",
    "with open(\"../config/system_config/task_default_config/task1.json\", \"w\") as f:\n",
    "    json.dump(job_params, f, indent=4)"
   ],
   "metadata": {
    "collapsed": false,
    "ExecuteTime": {
     "end_time": "2025-05-11T05:29:50.106282Z",
     "start_time": "2025-05-11T05:29:50.089281Z"
    }
   },
   "id": "cdc5585d47cde464",
   "execution_count": 2
  },
  {
   "cell_type": "code",
   "outputs": [
    {
     "data": {
      "text/plain": "['../interactive_space/unscmol/upload_data/model_class_hyperparams_unscmol_1_17.joblib']"
     },
     "execution_count": 8,
     "metadata": {},
     "output_type": "execute_result"
    }
   ],
   "source": [
    "# 生成上传的每个场站的实例化超参数\n",
    "with open(\"../config/job_config/job_params_unscmol_17.json\", \"r\") as f:\n",
    "    job_params = json.load(f)\n",
    "name_list  = joblib.load('../src/user_interface/demo_test/task1/name_ls.joblib')\n",
    "hyper_params = {}\n",
    "for name in name_list:\n",
    "    hyper_params[name] = {'input_dim': 1, 'hidden_dim': 128}\n",
    "joblib.dump(hyper_params, '../interactive_space/{}/upload_data/model_class_hyperparams_{}_{}_{}.joblib'.format(job_params['user_id'], job_params['user_id'], job_params['task_id'], job_params['job_number']))\n",
    "\n",
    "\n"
   ],
   "metadata": {
    "collapsed": false,
    "ExecuteTime": {
     "end_time": "2025-05-11T14:24:32.564380Z",
     "start_time": "2025-05-11T14:24:32.542372Z"
    }
   },
   "id": "54c03b6a1fa5cdb",
   "execution_count": 8
  },
  {
   "cell_type": "code",
   "outputs": [],
   "source": [],
   "metadata": {
    "collapsed": false
   },
   "id": "f978227ca40df2ce"
  }
 ],
 "metadata": {
  "kernelspec": {
   "display_name": "Python 3",
   "language": "python",
   "name": "python3"
  },
  "language_info": {
   "codemirror_mode": {
    "name": "ipython",
    "version": 2
   },
   "file_extension": ".py",
   "mimetype": "text/x-python",
   "name": "python",
   "nbconvert_exporter": "python",
   "pygments_lexer": "ipython2",
   "version": "2.7.6"
  }
 },
 "nbformat": 4,
 "nbformat_minor": 5
}
